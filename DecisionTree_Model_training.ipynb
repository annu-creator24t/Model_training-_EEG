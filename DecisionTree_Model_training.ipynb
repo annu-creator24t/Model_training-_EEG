{
  "nbformat": 4,
  "nbformat_minor": 0,
  "metadata": {
    "colab": {
      "provenance": [],
      "authorship_tag": "ABX9TyMzlDPCBo/HBmAFafiR9dCn",
      "include_colab_link": true
    },
    "kernelspec": {
      "name": "python3",
      "display_name": "Python 3"
    },
    "language_info": {
      "name": "python"
    }
  },
  "cells": [
    {
      "cell_type": "markdown",
      "metadata": {
        "id": "view-in-github",
        "colab_type": "text"
      },
      "source": [
        "<a href=\"https://colab.research.google.com/github/annu-creator24t/Model_training-_EEG/blob/main/DecisionTree_Model_training.ipynb\" target=\"_parent\"><img src=\"https://colab.research.google.com/assets/colab-badge.svg\" alt=\"Open In Colab\"/></a>"
      ]
    },
    {
      "cell_type": "code",
      "execution_count": 2,
      "metadata": {
        "colab": {
          "base_uri": "https://localhost:8080/"
        },
        "id": "RqmJvxml5MqR",
        "outputId": "ff8c12c0-e231-47af-f40c-2d1c2f3a35c8"
      },
      "outputs": [
        {
          "output_type": "stream",
          "name": "stdout",
          "text": [
            "Requirement already satisfied: pandas in /usr/local/lib/python3.11/dist-packages (2.2.2)\n",
            "Requirement already satisfied: numpy>=1.23.2 in /usr/local/lib/python3.11/dist-packages (from pandas) (2.0.2)\n",
            "Requirement already satisfied: python-dateutil>=2.8.2 in /usr/local/lib/python3.11/dist-packages (from pandas) (2.8.2)\n",
            "Requirement already satisfied: pytz>=2020.1 in /usr/local/lib/python3.11/dist-packages (from pandas) (2025.2)\n",
            "Requirement already satisfied: tzdata>=2022.7 in /usr/local/lib/python3.11/dist-packages (from pandas) (2025.2)\n",
            "Requirement already satisfied: six>=1.5 in /usr/local/lib/python3.11/dist-packages (from python-dateutil>=2.8.2->pandas) (1.17.0)\n"
          ]
        }
      ],
      "source": [
        "pip install pandas"
      ]
    },
    {
      "cell_type": "code",
      "source": [
        "pip install numpy"
      ],
      "metadata": {
        "colab": {
          "base_uri": "https://localhost:8080/"
        },
        "id": "kM5WRKag5ePi",
        "outputId": "a1747f2e-9617-41ab-c39c-1ade4027445e"
      },
      "execution_count": 3,
      "outputs": [
        {
          "output_type": "stream",
          "name": "stdout",
          "text": [
            "Requirement already satisfied: numpy in /usr/local/lib/python3.11/dist-packages (2.0.2)\n"
          ]
        }
      ]
    },
    {
      "cell_type": "code",
      "source": [
        "from google.colab import drive\n",
        "drive.mount('/content/drive')"
      ],
      "metadata": {
        "colab": {
          "base_uri": "https://localhost:8080/"
        },
        "id": "1Aidse6B5v9f",
        "outputId": "47095211-7431-4360-e529-a5aa79156853"
      },
      "execution_count": 4,
      "outputs": [
        {
          "output_type": "stream",
          "name": "stdout",
          "text": [
            "Mounted at /content/drive\n"
          ]
        }
      ]
    },
    {
      "cell_type": "code",
      "source": [
        "import pandas as pd\n",
        "import numpy as np\n",
        "from sklearn.model_selection import train_test_split\n",
        "from sklearn.preprocessing import StandardScaler\n",
        "from sklearn.tree import DecisionTreeClassifier\n",
        "from sklearn.metrics import accuracy_score, confusion_matrix, classification_report\n",
        "\n",
        "# Load the dataset\n",
        "csv_path = \"/content/drive/My Drive/Annu tiwari/Testing_Export_4_0.csv\"\n",
        "df = pd.read_csv(csv_path)\n",
        "\n",
        "# Drop unnecessary columns\n",
        "df = df.drop(columns=[\"File\", \"Channel\", \"DFA\"], errors=\"ignore\")\n",
        "\n",
        "# Shuffle the dataset\n",
        "df = df.sample(frac=1, random_state=82).reset_index(drop=True)\n",
        "\n",
        "# Define features (X) and target (y)\n",
        "X = df.drop(columns=[\"Patient_Type\"])  # Features\n",
        "y = df[\"Patient_Type\"]  # Target (0 = Healthy, 1 = Depressed)\n",
        "\n",
        "# Apply feature scaling\n",
        "scaler = StandardScaler()\n",
        "X_scaled = scaler.fit_transform(X)\n",
        "\n",
        "# Split data into training and testing sets\n",
        "X_train, X_test, y_train, y_test = train_test_split(X_scaled, y, test_size=0.2, random_state=42, stratify=y)\n",
        "\n",
        "# Train Decision Tree Model with original parameters\n",
        "dt_model = DecisionTreeClassifier(criterion='gini', max_depth=15, min_samples_split=5, min_samples_leaf=2, random_state=42)\n",
        "dt_model.fit(X_train, y_train)\n",
        "\n",
        "# Make predictions\n",
        "y_pred_dt = dt_model.predict(X_test)\n",
        "\n",
        "# Function to print evaluation metrics\n",
        "def evaluate_model(name, y_test, y_pred):\n",
        "    accuracy = accuracy_score(y_test, y_pred)  # Calculate accuracy\n",
        "    print(f\"==== {name} ====\")\n",
        "    print(f\"Model Accuracy: {accuracy * 100:.2f}%\")  # Print accuracy in percentage\n",
        "    print(\"\\nConfusion Matrix:\")\n",
        "    print(confusion_matrix(y_test, y_pred))\n",
        "    print(\"\\nClassification Report:\")\n",
        "    print(classification_report(y_test, y_pred, digits=4))\n",
        "\n",
        "# Evaluate Decision Tree Model\n",
        "evaluate_model(\"Decision Tree\", y_test, y_pred_dt)\n",
        "\n"
      ],
      "metadata": {
        "colab": {
          "base_uri": "https://localhost:8080/"
        },
        "id": "9OBZQqar56Vo",
        "outputId": "9388fea3-d8e1-49f8-f1a5-bf4d7ead2a7d"
      },
      "execution_count": 5,
      "outputs": [
        {
          "output_type": "stream",
          "name": "stdout",
          "text": [
            "==== Decision Tree ====\n",
            "Model Accuracy: 90.17%\n",
            "\n",
            "Confusion Matrix:\n",
            "[[104  13]\n",
            " [ 10 107]]\n",
            "\n",
            "Classification Report:\n",
            "              precision    recall  f1-score   support\n",
            "\n",
            "           0     0.9123    0.8889    0.9004       117\n",
            "           1     0.8917    0.9145    0.9030       117\n",
            "\n",
            "    accuracy                         0.9017       234\n",
            "   macro avg     0.9020    0.9017    0.9017       234\n",
            "weighted avg     0.9020    0.9017    0.9017       234\n",
            "\n"
          ]
        }
      ]
    }
  ]
}