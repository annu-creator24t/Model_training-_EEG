{
  "nbformat": 4,
  "nbformat_minor": 0,
  "metadata": {
    "colab": {
      "provenance": [],
      "authorship_tag": "ABX9TyMgp51lcEIPu4mFkxGTzz/J",
      "include_colab_link": true
    },
    "kernelspec": {
      "name": "python3",
      "display_name": "Python 3"
    },
    "language_info": {
      "name": "python"
    }
  },
  "cells": [
    {
      "cell_type": "markdown",
      "metadata": {
        "id": "view-in-github",
        "colab_type": "text"
      },
      "source": [
        "<a href=\"https://colab.research.google.com/github/annu-creator24t/Model_training-_EEG/blob/main/SVM_Model_training.ipynb\" target=\"_parent\"><img src=\"https://colab.research.google.com/assets/colab-badge.svg\" alt=\"Open In Colab\"/></a>"
      ]
    },
    {
      "cell_type": "code",
      "execution_count": null,
      "metadata": {
        "colab": {
          "base_uri": "https://localhost:8080/"
        },
        "id": "dLDfItGV4K6D",
        "outputId": "1b0a2472-edce-4464-b458-57ae13f4efc5"
      },
      "outputs": [
        {
          "output_type": "stream",
          "name": "stdout",
          "text": [
            "Requirement already satisfied: pandas in /usr/local/lib/python3.11/dist-packages (2.2.2)\n",
            "Requirement already satisfied: numpy>=1.23.2 in /usr/local/lib/python3.11/dist-packages (from pandas) (2.0.2)\n",
            "Requirement already satisfied: python-dateutil>=2.8.2 in /usr/local/lib/python3.11/dist-packages (from pandas) (2.8.2)\n",
            "Requirement already satisfied: pytz>=2020.1 in /usr/local/lib/python3.11/dist-packages (from pandas) (2025.1)\n",
            "Requirement already satisfied: tzdata>=2022.7 in /usr/local/lib/python3.11/dist-packages (from pandas) (2025.1)\n",
            "Requirement already satisfied: six>=1.5 in /usr/local/lib/python3.11/dist-packages (from python-dateutil>=2.8.2->pandas) (1.17.0)\n"
          ]
        }
      ],
      "source": [
        "pip install pandas"
      ]
    },
    {
      "cell_type": "code",
      "source": [
        "pip install numpy"
      ],
      "metadata": {
        "colab": {
          "base_uri": "https://localhost:8080/"
        },
        "id": "J4VufL7b4Uxg",
        "outputId": "d04f44a1-8fe5-430b-dc19-ea7010002be8"
      },
      "execution_count": null,
      "outputs": [
        {
          "output_type": "stream",
          "name": "stdout",
          "text": [
            "Requirement already satisfied: numpy in /usr/local/lib/python3.11/dist-packages (2.0.2)\n"
          ]
        }
      ]
    },
    {
      "cell_type": "code",
      "source": [
        "from google.colab import drive\n",
        "drive.mount('/content/drive')"
      ],
      "metadata": {
        "colab": {
          "base_uri": "https://localhost:8080/"
        },
        "id": "b_sivdxI4lMB",
        "outputId": "c8f97b4d-e0c4-469d-d887-6ffd18a49be9"
      },
      "execution_count": null,
      "outputs": [
        {
          "output_type": "stream",
          "name": "stdout",
          "text": [
            "Mounted at /content/drive\n"
          ]
        }
      ]
    },
    {
      "cell_type": "code",
      "source": [
        "import pandas as pd\n",
        "import numpy as np\n",
        "from sklearn.model_selection import train_test_split\n",
        "from sklearn.svm import SVC\n",
        "from sklearn.preprocessing import StandardScaler\n",
        "from sklearn.metrics import accuracy_score, confusion_matrix, classification_report\n",
        "\n",
        "# Load the dataset\n",
        "csv_path = \"/content/drive/My Drive/Annu tiwari/Testing_Export_2_0.csv\"\n",
        "df = pd.read_csv(csv_path)\n",
        "\n",
        "# Drop unnecessary columns\n",
        "df = df.drop(columns=[\"File\", \"Channel\", \"DFA\"], errors=\"ignore\")\n",
        "\n",
        "# Shuffle the dataset\n",
        "df = df.sample(frac=1, random_state=82).reset_index(drop=True)\n",
        "\n",
        "# Define features (X) and target (y)\n",
        "X = df.drop(columns=[\"Patient_Type\"])  # Features\n",
        "y = df[\"Patient_Type\"]  # Target (0 = Healthy, 1 = Depressed)\n",
        "\n",
        "# Apply feature scaling\n",
        "scaler = StandardScaler()\n",
        "X_scaled = scaler.fit_transform(X)\n",
        "\n",
        "# Split data into training and testing sets\n",
        "X_train, X_test, y_train, y_test = train_test_split(X_scaled, y, test_size=0.3, random_state=42)\n",
        "\n",
        "# Train SVM\n",
        "svm_model = SVC(kernel='rbf', probability=True, random_state=42)\n",
        "svm_model.fit(X_train, y_train)\n",
        "\n",
        "# Make predictions\n",
        "y_pred_svm = svm_model.predict(X_test)\n",
        "\n",
        "# Function to print evaluation metrics\n",
        "def evaluate_model(name, y_test, y_pred):\n",
        "    accuracy = accuracy_score(y_test, y_pred)  # Calculate accuracy\n",
        "    print(f\"==== {name} ====\")\n",
        "    print(f\"Model Accuracy: {accuracy * 100:.2f}%\")  # Print accuracy in percentage\n",
        "    print(\"\\nConfusion Matrix:\")\n",
        "    print(confusion_matrix(y_test, y_pred))\n",
        "    print(\"\\nClassification Report:\")\n",
        "    print(classification_report(y_test, y_pred, digits=4))\n",
        "\n",
        "# Evaluate SVM Model\n",
        "evaluate_model(\"SVM\", y_test, y_pred_svm)\n"
      ],
      "metadata": {
        "colab": {
          "base_uri": "https://localhost:8080/"
        },
        "id": "5INUq8SY9BEA",
        "outputId": "d9639ce2-d80c-490d-a1a8-9c20ab897f45"
      },
      "execution_count": null,
      "outputs": [
        {
          "output_type": "stream",
          "name": "stdout",
          "text": [
            "==== SVM ====\n",
            "Model Accuracy: 92.00%\n",
            "\n",
            "Confusion Matrix:\n",
            "[[158  17]\n",
            " [ 11 164]]\n",
            "\n",
            "Classification Report:\n",
            "              precision    recall  f1-score   support\n",
            "\n",
            "           0     0.9349    0.9029    0.9186       175\n",
            "           1     0.9061    0.9371    0.9213       175\n",
            "\n",
            "    accuracy                         0.9200       350\n",
            "   macro avg     0.9205    0.9200    0.9200       350\n",
            "weighted avg     0.9205    0.9200    0.9200       350\n",
            "\n"
          ]
        }
      ]
    }
  ]
}