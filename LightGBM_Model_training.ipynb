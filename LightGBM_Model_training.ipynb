{
  "nbformat": 4,
  "nbformat_minor": 0,
  "metadata": {
    "colab": {
      "provenance": [],
      "authorship_tag": "ABX9TyOjAeicZxIAaGvgdYLbZzyg",
      "include_colab_link": true
    },
    "kernelspec": {
      "name": "python3",
      "display_name": "Python 3"
    },
    "language_info": {
      "name": "python"
    }
  },
  "cells": [
    {
      "cell_type": "markdown",
      "metadata": {
        "id": "view-in-github",
        "colab_type": "text"
      },
      "source": [
        "<a href=\"https://colab.research.google.com/github/annu-creator24t/Model_training-_EEG/blob/main/LightGBM_Model_training.ipynb\" target=\"_parent\"><img src=\"https://colab.research.google.com/assets/colab-badge.svg\" alt=\"Open In Colab\"/></a>"
      ]
    },
    {
      "cell_type": "code",
      "execution_count": 1,
      "metadata": {
        "colab": {
          "base_uri": "https://localhost:8080/"
        },
        "id": "LLjzEnZR0tn8",
        "outputId": "fe5acad6-ef68-4bde-b463-90bf1cd1bb88"
      },
      "outputs": [
        {
          "output_type": "stream",
          "name": "stdout",
          "text": [
            "Requirement already satisfied: pandas in /usr/local/lib/python3.11/dist-packages (2.2.2)\n",
            "Requirement already satisfied: numpy>=1.23.2 in /usr/local/lib/python3.11/dist-packages (from pandas) (2.0.2)\n",
            "Requirement already satisfied: python-dateutil>=2.8.2 in /usr/local/lib/python3.11/dist-packages (from pandas) (2.8.2)\n",
            "Requirement already satisfied: pytz>=2020.1 in /usr/local/lib/python3.11/dist-packages (from pandas) (2025.2)\n",
            "Requirement already satisfied: tzdata>=2022.7 in /usr/local/lib/python3.11/dist-packages (from pandas) (2025.2)\n",
            "Requirement already satisfied: six>=1.5 in /usr/local/lib/python3.11/dist-packages (from python-dateutil>=2.8.2->pandas) (1.17.0)\n"
          ]
        }
      ],
      "source": [
        "pip install pandas\n"
      ]
    },
    {
      "cell_type": "code",
      "source": [
        "pip install numpy"
      ],
      "metadata": {
        "colab": {
          "base_uri": "https://localhost:8080/"
        },
        "id": "rt8Q6CVB04mz",
        "outputId": "b348840f-789c-4e37-eb08-5d6d01bd57fb"
      },
      "execution_count": 2,
      "outputs": [
        {
          "output_type": "stream",
          "name": "stdout",
          "text": [
            "Requirement already satisfied: numpy in /usr/local/lib/python3.11/dist-packages (2.0.2)\n"
          ]
        }
      ]
    },
    {
      "cell_type": "code",
      "source": [
        "from google.colab import drive\n",
        "drive.mount('/content/drive')"
      ],
      "metadata": {
        "colab": {
          "base_uri": "https://localhost:8080/"
        },
        "id": "Vv0wARGq0_R0",
        "outputId": "168cea10-7737-49a8-f4b7-61edbf25921f"
      },
      "execution_count": 3,
      "outputs": [
        {
          "output_type": "stream",
          "name": "stdout",
          "text": [
            "Mounted at /content/drive\n"
          ]
        }
      ]
    },
    {
      "cell_type": "code",
      "source": [
        "import pandas as pd\n",
        "import numpy as np\n",
        "import lightgbm as lgb\n",
        "from sklearn.model_selection import train_test_split\n",
        "from sklearn.preprocessing import StandardScaler\n",
        "from sklearn.metrics import accuracy_score, confusion_matrix, classification_report\n",
        "\n",
        "# Load the dataset\n",
        "csv_path = \"/content/drive/My Drive/Annu tiwari/Testing_Export_2_0.csv\"\n",
        "df = pd.read_csv(csv_path)\n",
        "\n",
        "# Drop unnecessary columns\n",
        "df = df.drop(columns=[\"File\", \"Channel\", \"DFA\"], errors=\"ignore\")\n",
        "\n",
        "# Shuffle the dataset\n",
        "df = df.sample(frac=1, random_state=82).reset_index(drop=True)\n",
        "\n",
        "# Define features (X) and target (y)\n",
        "X = df.drop(columns=[\"Patient_Type\"])  # Features\n",
        "y = df[\"Patient_Type\"]  # Target (0 = Healthy, 1 = Depressed)\n",
        "\n",
        "# Apply feature scaling\n",
        "scaler = StandardScaler()\n",
        "X_scaled = scaler.fit_transform(X)\n",
        "\n",
        "# Split data into training and testing sets\n",
        "X_train, X_test, y_train, y_test = train_test_split(X_scaled, y, test_size=0.3, random_state=42)\n",
        "\n",
        "# Train LightGBM Model\n",
        "lgb_train = lgb.Dataset(X_train, y_train)\n",
        "lgb_test = lgb.Dataset(X_test, y_test, reference=lgb_train)\n",
        "\n",
        "# Set optimized parameters for LightGBM\n",
        "params = {\n",
        "    'objective': 'binary',  # Binary classification\n",
        "    'metric': 'binary_logloss',\n",
        "    'boosting_type': 'gbdt',\n",
        "    'learning_rate': 0.03,\n",
        "    'num_leaves': 50,\n",
        "    'feature_fraction': 0.8,\n",
        "    'bagging_fraction': 0.8,\n",
        "    'bagging_freq': 5,\n",
        "    'verbose': -1\n",
        "}\n",
        "\n",
        "# Train the model\n",
        "lgb_model = lgb.train(params, lgb_train, num_boost_round=200, valid_sets=[lgb_test])\n",
        "\n",
        "# Make predictions\n",
        "y_pred_lgb = (lgb_model.predict(X_test) > 0.5).astype(int)\n",
        "\n",
        "# Function to print evaluation metrics\n",
        "def evaluate_model(name, y_test, y_pred):\n",
        "    accuracy = accuracy_score(y_test, y_pred)  # Calculate accuracy\n",
        "    print(f\"==== {name} ====\")\n",
        "    print(f\"Model Accuracy: {accuracy * 100:.2f}%\")  # Print accuracy in percentage\n",
        "    print(\"\\nConfusion Matrix:\")\n",
        "    print(confusion_matrix(y_test, y_pred))\n",
        "    print(\"\\nClassification Report:\")\n",
        "    print(classification_report(y_test, y_pred, digits=4))\n",
        "\n",
        "# Evaluate LightGBM Model\n",
        "evaluate_model(\"LightGBM\", y_test, y_pred_lgb)\n",
        "\n"
      ],
      "metadata": {
        "colab": {
          "base_uri": "https://localhost:8080/"
        },
        "id": "6CFBb7rK1HoV",
        "outputId": "5c9b9b4d-3963-4483-c0f5-b49275c8ee6c"
      },
      "execution_count": 4,
      "outputs": [
        {
          "output_type": "stream",
          "name": "stdout",
          "text": [
            "==== LightGBM ====\n",
            "Model Accuracy: 94.29%\n",
            "\n",
            "Confusion Matrix:\n",
            "[[161  14]\n",
            " [  6 169]]\n",
            "\n",
            "Classification Report:\n",
            "              precision    recall  f1-score   support\n",
            "\n",
            "           0     0.9641    0.9200    0.9415       175\n",
            "           1     0.9235    0.9657    0.9441       175\n",
            "\n",
            "    accuracy                         0.9429       350\n",
            "   macro avg     0.9438    0.9429    0.9428       350\n",
            "weighted avg     0.9438    0.9429    0.9428       350\n",
            "\n"
          ]
        }
      ]
    }
  ]
}